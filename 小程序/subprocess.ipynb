{
 "cells": [
  {
   "cell_type": "markdown",
   "metadata": {},
   "source": [
    "# subprocess "
   ]
  },
  {
   "cell_type": "code",
   "execution_count": 17,
   "metadata": {
    "collapsed": false
   },
   "outputs": [],
   "source": [
    "import subprocess\n",
    "import pprint\n",
    "\"\"\"\n",
    "主要是以下两个函数\n",
    "===============\n",
    "run(...)\n",
    "Popen(...)\n",
    "===============\n",
    "其他的...\n",
    "旧版本API\n",
    "call()\n",
    "output()\n",
    "check_call()\n",
    "check_ouput()\n",
    "\n",
    "preexec_fn参数表示子进程调用exec前优先执行的函数，因此可以通过os.setsid创建新会话\n",
    "\n",
    "\"\"\"\n",
    "completedprocess = subprocess.run(args=['ls','-l'],stdout=subprocess.PIPE)"
   ]
  },
  {
   "cell_type": "code",
   "execution_count": 18,
   "metadata": {
    "collapsed": false
   },
   "outputs": [
    {
     "data": {
      "text/plain": [
       "0"
      ]
     },
     "execution_count": 18,
     "metadata": {},
     "output_type": "execute_result"
    }
   ],
   "source": [
    "\n",
    "subprocess.call(['ls','-l'])"
   ]
  },
  {
   "cell_type": "markdown",
   "metadata": {},
   "source": [
    "## 父子进程通过管道进行通信\n",
    "subprocess.Popen() 示例"
   ]
  },
  {
   "cell_type": "markdown",
   "metadata": {
    "collapsed": true
   },
   "source": [
    "```python\n",
    "\"\"\"\n",
    "caller.py\n",
    "父进程\n",
    "\"\"\"\n",
    "import subprocess\n",
    "\n",
    "\n",
    "print('One line at a time:')\n",
    "proc = subprocess.Popen('python repeater.py',\n",
    "                        shell=True,\n",
    "                        stdin=subprocess.PIPE,\n",
    "                        # stdout=subprocess.PIPE,\n",
    "                        )\n",
    "for i in range(10):\n",
    "    proc.stdin.write(('%d\\n' % i).encode('utf-8'))\n",
    "    proc.stdin.flush()\n",
    "    output = proc.stdout.readline()\n",
    "    print(output.rstrip())\n",
    "remainder = proc.communicate()[0]\n",
    "print(remainder.decode('utf-8'))\n",
    "print('All output at once')\n",
    "\n",
    "```"
   ]
  },
  {
   "cell_type": "markdown",
   "metadata": {},
   "source": [
    "\n",
    "```python\n",
    "\"\"\"\n",
    "repeater.py\n",
    "子进程\n",
    "\"\"\"\n",
    "sys.stderr.write('repeater.py: starting\\n')\n",
    "sys.stderr.flush()\n",
    "\n",
    "while True:\n",
    "    next_line = sys.stdin.readline()\n",
    "    if not next_line:\n",
    "        break\n",
    "    sys.stdout.write(next_line)\n",
    "    sys.stdout.flush()\n",
    "\n",
    "sys.stderr.write('repeater.py: exiting\\n')\n",
    "sys.stderr.flush()\n",
    "```"
   ]
  },
  {
   "cell_type": "code",
   "execution_count": null,
   "metadata": {
    "collapsed": true
   },
   "outputs": [],
   "source": []
  }
 ],
 "metadata": {
  "kernelspec": {
   "display_name": "Python 3",
   "language": "python",
   "name": "python3"
  },
  "language_info": {
   "codemirror_mode": {
    "name": "ipython",
    "version": 3
   },
   "file_extension": ".py",
   "mimetype": "text/x-python",
   "name": "python",
   "nbconvert_exporter": "python",
   "pygments_lexer": "ipython3",
   "version": "3.6.0"
  }
 },
 "nbformat": 4,
 "nbformat_minor": 2
}
